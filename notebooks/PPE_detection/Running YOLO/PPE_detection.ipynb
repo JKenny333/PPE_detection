{
 "cells": [
  {
   "cell_type": "code",
   "execution_count": 1,
   "id": "ef2ac04f-0ee2-4c65-af9c-3d7521774ce0",
   "metadata": {},
   "outputs": [
    {
     "name": "stderr",
     "output_type": "stream",
     "text": [
      "/Users/jameskenny/ppe_detection_env/lib/python3.9/site-packages/urllib3/__init__.py:35: NotOpenSSLWarning: urllib3 v2 only supports OpenSSL 1.1.1+, currently the 'ssl' module is compiled with 'LibreSSL 2.8.3'. See: https://github.com/urllib3/urllib3/issues/3020\n",
      "  warnings.warn(\n"
     ]
    }
   ],
   "source": [
    "from ultralytics import YOLO\n",
    "import cv2\n",
    "import cvzone\n",
    "import math\n"
   ]
  },
  {
   "cell_type": "code",
   "execution_count": 5,
   "id": "38c019eb-950b-4b4e-97ce-0b7e5bc9b374",
   "metadata": {
    "scrolled": true
   },
   "outputs": [
    {
     "ename": "SyntaxError",
     "evalue": "invalid syntax (3964571377.py, line 37)",
     "output_type": "error",
     "traceback": [
      "\u001b[0;36m  Cell \u001b[0;32mIn[5], line 37\u001b[0;36m\u001b[0m\n\u001b[0;31m    cv2.imshow(\"Image\", img) # displays the captured image in a window named \"Image\".\u001b[0m\n\u001b[0m    ^\u001b[0m\n\u001b[0;31mSyntaxError\u001b[0m\u001b[0;31m:\u001b[0m invalid syntax\n"
     ]
    }
   ],
   "source": [
    "#cap = cv2.VideoCapture(0) #0 for default webcam, 1,2,3 etc for aditional\n",
    "#cap.set(3, 1280)  # Set the width to 1280\n",
    "#cap.set(4, 720)   # Set the height to 720 (optional)\n",
    "cap = cv2.VideoCapture(\"../demo_videos/ppe-1-1.mp4\")#for video\n",
    "\n",
    "model = YOLO(\"../model/ppe1.pt\")\n",
    "\n",
    "classNames = ['Hardhat', 'Mask', 'NO-Hardhat', 'NO-Mask', 'NO-Safety Vest', 'Person', 'Safety Cone', 'Safety Vest', 'machinery', 'vehicle']\n",
    "\n",
    "my_color = (255, 197, 1)\n",
    "\n",
    "while True:\n",
    "    success, img = cap.read()\n",
    "    results = model(img, stream=True)\n",
    "    if success:\n",
    "        for r in results:\n",
    "            boxes = r.boxes\n",
    "            for box in boxes:\n",
    "                #bounding box\n",
    "                x1, y1, x2, y2 = box.xyxy[0]\n",
    "                x1, y1, x2, y2 = int(x1), int(y1), int(x2), int(y2)\n",
    "                #cv2.rectangle(img,(x1,y1),(x2,y2),(255,0,255), 3) #can use this for default open cv bounding boxes\n",
    "                \n",
    "                #cvzone bounding box\n",
    "                w, h = x2-x1,y2-y1 #set up for cvzone bounding boxes\n",
    "                #cvzone.cornerRect(img,(x1,y1,w,h)) #can use this for custom cvzone bounding boxes\n",
    "                cv2.rectangle(img,(x1, y1),(x2,y2),myColor, 3) #can use this for default open cv bounding boxes\n",
    "                \n",
    "                #confidence\n",
    "                conf = math.ceil((box.conf[0]*100))/100\n",
    "                #class name\n",
    "                cls = int(box.cls[0])\n",
    "                \n",
    "                cvzone.putTextRect(img,f'{classNames[cls]} {conf}',\n",
    "                                   (max(0, x1), max(35, y1)), scale=1, thickness=1, colorB=myColor, colorT=(255,255,255)#color text white)\n",
    "                \n",
    "            cv2.imshow(\"Image\", img) # displays the captured image in a window named \"Image\".\n",
    "        if cv2.waitKey(1) & 0xFF == ord('q'): #Break the loop when 'q' is pressed.\n",
    "            '''\n",
    "            cv2.waitKey(1) waits for a specified number of milliseconds for any keyboard event.\n",
    "            If you pass 0, it will wait indefinitely for a key press.\n",
    "            If you pass 1 it waits for a key press for 1 millisecond and then proceeds to the next iteration of the loop. \n",
    "            If the key pressed is 'q', the loop breaks, effectively ending the program.\n",
    "            & 0xFF part is used to mask the returned value to the last 8 bits, ensuring compatibility across different operating systems.\n",
    "            This is especially relevant in some environments where the returned value might be different from the ASCII value, \n",
    "            ensuring that the comparison ord('q') works as intended.\n",
    "            '''\n",
    "            break\n",
    "    else:\n",
    "        print(\"Failed to capture image\")\n",
    "        break\n",
    "\n",
    "cap.release()  # Release the webcam\n",
    "cv2.destroyAllWindows()  # Close all OpenCV windows"
   ]
  },
  {
   "cell_type": "code",
   "execution_count": null,
   "id": "99076f2f-a44a-4dc7-9f83-514bc1843fb4",
   "metadata": {},
   "outputs": [],
   "source": []
  },
  {
   "cell_type": "code",
   "execution_count": null,
   "id": "31775d55-15ba-4ee7-87c8-58a8b35b51d5",
   "metadata": {},
   "outputs": [],
   "source": []
  }
 ],
 "metadata": {
  "kernelspec": {
   "display_name": "PPE Detection Env",
   "language": "python",
   "name": "ppe_detection_env_kernel"
  },
  "language_info": {
   "codemirror_mode": {
    "name": "ipython",
    "version": 3
   },
   "file_extension": ".py",
   "mimetype": "text/x-python",
   "name": "python",
   "nbconvert_exporter": "python",
   "pygments_lexer": "ipython3",
   "version": "3.9.6"
  }
 },
 "nbformat": 4,
 "nbformat_minor": 5
}
