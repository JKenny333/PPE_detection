{
 "cells": [
  {
   "cell_type": "code",
   "execution_count": 13,
   "id": "814e607f-fce4-4c96-afdc-766bbe6a63f8",
   "metadata": {},
   "outputs": [],
   "source": [
    "import json\n",
    "from IPython.display import JSON\n",
    "from ultralytics import YOLO"
   ]
  },
  {
   "cell_type": "code",
   "execution_count": 14,
   "id": "8c2c2e92-f0d3-46c2-98a9-3de01f7077c2",
   "metadata": {},
   "outputs": [],
   "source": [
    "model_path_s = \"/Users/jameskenny/Documents/GitHub/Ironhack/PPE_detection/models/small_yolo_model/ppe_s.pt\"\n",
    "model_path_m = \"/Users/jameskenny/Documents/GitHub/Ironhack/PPE_detection/models/medium_yolo_model/ppe_m.pt\"\n",
    "model_path_l = \"/Users/jameskenny/Documents/GitHub/Ironhack/PPE_detection/models/large_yolo_model/ppe_l.pt\"\n",
    "data_yaml = \"/Users/jameskenny/Documents/GitHub/Ironhack/PPE_detection/data/Construction Site Safety.v27-yolov8.yolov8/data.yaml\"\n",
    "json_path = \"/Users/jameskenny/Documents/GitHub/Ironhack/PPE_detection/notebooks/runs/detect/val/predictions.json\""
   ]
  },
  {
   "cell_type": "code",
   "execution_count": 21,
   "id": "47a22cc7-f87d-4434-aede-72e4c14141dd",
   "metadata": {},
   "outputs": [
    {
     "name": "stdout",
     "output_type": "stream",
     "text": [
      "Ultralytics YOLOv8.1.19 🚀 Python-3.11.8 torch-2.2.1 CPU (Apple M2)\n",
      "Model summary (fused): 168 layers, 11129454 parameters, 0 gradients, 28.5 GFLOPs\n"
     ]
    },
    {
     "name": "stderr",
     "output_type": "stream",
     "text": [
      "\u001b[34m\u001b[1mval: \u001b[0mScanning /Users/jameskenny/Documents/GitHub/Ironhack/PPE_detection/data/Con\u001b[0m\n",
      "                 Class     Images  Instances      Box(P          R      mAP50  m\n"
     ]
    },
    {
     "name": "stdout",
     "output_type": "stream",
     "text": [
      "                   all        114        697      0.927      0.743      0.857      0.607\n",
      "               Hardhat        114         79      0.942      0.772      0.891      0.632\n",
      "                  Mask        114         21          1      0.902       0.95      0.752\n",
      "            NO-Hardhat        114         69      0.893       0.58      0.772      0.502\n",
      "               NO-Mask        114         74       0.96      0.642      0.802      0.482\n",
      "        NO-Safety Vest        114        106       0.95      0.715       0.83      0.599\n",
      "                Person        114        166      0.915      0.777      0.856        0.6\n",
      "           Safety Cone        114         44      0.896      0.818      0.882       0.57\n",
      "           Safety Vest        114         41      0.941      0.776      0.904      0.646\n",
      "             machinery        114         55      0.946      0.873      0.958      0.707\n",
      "               vehicle        114         42      0.832      0.571      0.728      0.582\n",
      "Speed: 0.9ms preprocess, 340.5ms inference, 0.0ms loss, 0.3ms postprocess per image\n",
      "Saving runs/detect/val2/predictions.json...\n",
      "Results saved to \u001b[1mruns/detect/val2\u001b[0m\n"
     ]
    },
    {
     "data": {
      "text/plain": [
       "array([    0.63167,     0.75228,       0.502,     0.48224,     0.59895,     0.59953,     0.57015,       0.646,     0.70747,     0.58243])"
      ]
     },
     "execution_count": 21,
     "metadata": {},
     "output_type": "execute_result"
    }
   ],
   "source": [
    "# Load model\n",
    "model = YOLO(model_path_s)  # load a custom model\n",
    "\n",
    "# Validate the model\n",
    "metrics = model.val(data=data_yaml, conf=0.25, plots=True, save_json=True, device=\"cpu\")  # no arguments needed, dataset and settings remembered\n",
    "display(metrics.box.map)  # map50-95\n",
    "display(metrics.box.map50)  # map50\n",
    "display(metrics.box.map75) # map75\n",
    "display(metrics.box.maps)   # a list contains map50-95 of each category"
   ]
  },
  {
   "cell_type": "code",
   "execution_count": 23,
   "id": "69ee8936-1b1e-496e-a64d-579f90165b41",
   "metadata": {},
   "outputs": [
    {
     "name": "stdout",
     "output_type": "stream",
     "text": [
      "Ultralytics YOLOv8.1.19 🚀 Python-3.11.8 torch-2.2.1 CPU (Apple M2)\n",
      "Model summary (fused): 168 layers, 11129454 parameters, 0 gradients, 28.5 GFLOPs\n"
     ]
    },
    {
     "name": "stderr",
     "output_type": "stream",
     "text": [
      "\u001b[34m\u001b[1mval: \u001b[0mScanning /Users/jameskenny/Documents/GitHub/Ironhack/PPE_detection/data/Con\u001b[0m\n",
      "                 Class     Images  Instances      Box(P          R      mAP50  m\n"
     ]
    },
    {
     "name": "stdout",
     "output_type": "stream",
     "text": [
      "                   all        114        697      0.927      0.743      0.857      0.607\n",
      "               Hardhat        114         79      0.942      0.772      0.891      0.632\n",
      "                  Mask        114         21          1      0.902       0.95      0.752\n",
      "            NO-Hardhat        114         69      0.893       0.58      0.772      0.502\n",
      "               NO-Mask        114         74       0.96      0.642      0.802      0.482\n",
      "        NO-Safety Vest        114        106       0.95      0.715       0.83      0.599\n",
      "                Person        114        166      0.915      0.777      0.856        0.6\n",
      "           Safety Cone        114         44      0.896      0.818      0.882       0.57\n",
      "           Safety Vest        114         41      0.941      0.776      0.904      0.646\n",
      "             machinery        114         55      0.946      0.873      0.958      0.707\n",
      "               vehicle        114         42      0.832      0.571      0.728      0.582\n",
      "Speed: 0.9ms preprocess, 348.1ms inference, 0.0ms loss, 0.2ms postprocess per image\n",
      "Saving runs/detect/val3/predictions.json...\n",
      "Results saved to \u001b[1mruns/detect/val3\u001b[0m\n"
     ]
    },
    {
     "data": {
      "text/plain": [
       "0.6072716622679032"
      ]
     },
     "metadata": {},
     "output_type": "display_data"
    },
    {
     "data": {
      "text/plain": [
       "0.8572455232184761"
      ]
     },
     "metadata": {},
     "output_type": "display_data"
    },
    {
     "data": {
      "text/plain": [
       "0.7091865599148361"
      ]
     },
     "metadata": {},
     "output_type": "display_data"
    },
    {
     "data": {
      "text/plain": [
       "array([    0.63167,     0.75228,       0.502,     0.48224,     0.59895,     0.59953,     0.57015,       0.646,     0.70747,     0.58243])"
      ]
     },
     "metadata": {},
     "output_type": "display_data"
    }
   ],
   "source": [
    "# Load model\n",
    "model = YOLO(model_path_s)  # load a custom model\n",
    "\n",
    "# Validate the model\n",
    "metrics = model.val(data=data_yaml, conf=0.25, plots=True, save_json=True, device=\"cpu\")  # no arguments needed, dataset and settings remembered\n",
    "print(f'mAP 50-95: {metrics.box.map}')  # map50-95\n",
    "print(f'mAP 50: {metrics.box.map50}')  # map50\n",
    "print(f'mAP 75: {metrics.box.map75}') # map75\n",
    "print(\"List of map50-95 for each category:\")\n",
    "print(metrics.box.maps)   # a list contains map50-95 of each category"
   ]
  },
  {
   "cell_type": "code",
   "execution_count": 18,
   "id": "5fc46bcb-6e6e-4647-8ef0-bf9c80407d6b",
   "metadata": {},
   "outputs": [
    {
     "name": "stdout",
     "output_type": "stream",
     "text": [
      "0.6072716622679032\n"
     ]
    }
   ],
   "source": [
    "print(metrics.box.map)"
   ]
  },
  {
   "cell_type": "code",
   "execution_count": 19,
   "id": "887873c7-1a7d-47b6-a3a6-72d865e51855",
   "metadata": {},
   "outputs": [
    {
     "data": {
      "text/plain": [
       "0.8572455232184761"
      ]
     },
     "execution_count": 19,
     "metadata": {},
     "output_type": "execute_result"
    }
   ],
   "source": [
    "metrics.box.map50"
   ]
  },
  {
   "cell_type": "code",
   "execution_count": 20,
   "id": "1a455a12-8358-4318-82f8-bd85ddb05e51",
   "metadata": {},
   "outputs": [
    {
     "data": {
      "text/plain": [
       "array([    0.63167,     0.75228,       0.502,     0.48224,     0.59895,     0.59953,     0.57015,       0.646,     0.70747,     0.58243])"
      ]
     },
     "execution_count": 20,
     "metadata": {},
     "output_type": "execute_result"
    }
   ],
   "source": [
    "metrics.box.maps "
   ]
  },
  {
   "cell_type": "code",
   "execution_count": 6,
   "id": "4f321742-d080-4b58-8c3b-878e37e57082",
   "metadata": {},
   "outputs": [
    {
     "name": "stdout",
     "output_type": "stream",
     "text": [
      "Setup complete ✅ (8 CPUs, 16.0 GB RAM, 141.1/460.4 GB disk)\n",
      "\n",
      "Benchmarks complete for ppe_s.pt on /Users/jameskenny/Documents/GitHub/Ironhack/PPE_detection/data/Construction Site Safety.v27-yolov8.yolov8/data.yaml at imgsz=160 (7.21s)\n",
      "                   Format Status❔  Size (MB)  metrics/mAP50-95(B)  Inference time (ms/im)\n",
      "0                 PyTorch       ✅       21.5               0.2417                   22.56\n",
      "1             TorchScript       ✅       42.8               0.2343                   15.76\n",
      "2                    ONNX       ❌        0.0                  NaN                     NaN\n",
      "3                OpenVINO       ❌        0.0                  NaN                     NaN\n",
      "4                TensorRT       ❌        0.0                  NaN                     NaN\n",
      "5                  CoreML       ❌        0.0                  NaN                     NaN\n",
      "6   TensorFlow SavedModel       ❌        0.0                  NaN                     NaN\n",
      "7     TensorFlow GraphDef       ❌        0.0                  NaN                     NaN\n",
      "8         TensorFlow Lite       ❌        0.0                  NaN                     NaN\n",
      "9     TensorFlow Edge TPU       ❌        0.0                  NaN                     NaN\n",
      "10          TensorFlow.js       ❌        0.0                  NaN                     NaN\n",
      "11           PaddlePaddle       ❌        0.0                  NaN                     NaN\n",
      "12                   ncnn       ❌        0.0                  NaN                     NaN\n",
      "\n"
     ]
    },
    {
     "data": {
      "text/html": [
       "<div>\n",
       "<style scoped>\n",
       "    .dataframe tbody tr th:only-of-type {\n",
       "        vertical-align: middle;\n",
       "    }\n",
       "\n",
       "    .dataframe tbody tr th {\n",
       "        vertical-align: top;\n",
       "    }\n",
       "\n",
       "    .dataframe thead th {\n",
       "        text-align: right;\n",
       "    }\n",
       "</style>\n",
       "<table border=\"1\" class=\"dataframe\">\n",
       "  <thead>\n",
       "    <tr style=\"text-align: right;\">\n",
       "      <th></th>\n",
       "      <th>Format</th>\n",
       "      <th>Status❔</th>\n",
       "      <th>Size (MB)</th>\n",
       "      <th>metrics/mAP50-95(B)</th>\n",
       "      <th>Inference time (ms/im)</th>\n",
       "    </tr>\n",
       "  </thead>\n",
       "  <tbody>\n",
       "    <tr>\n",
       "      <th>0</th>\n",
       "      <td>PyTorch</td>\n",
       "      <td>✅</td>\n",
       "      <td>21.5</td>\n",
       "      <td>0.2417</td>\n",
       "      <td>22.56</td>\n",
       "    </tr>\n",
       "    <tr>\n",
       "      <th>1</th>\n",
       "      <td>TorchScript</td>\n",
       "      <td>✅</td>\n",
       "      <td>42.8</td>\n",
       "      <td>0.2343</td>\n",
       "      <td>15.76</td>\n",
       "    </tr>\n",
       "    <tr>\n",
       "      <th>2</th>\n",
       "      <td>ONNX</td>\n",
       "      <td>❌</td>\n",
       "      <td>0.0</td>\n",
       "      <td>NaN</td>\n",
       "      <td>NaN</td>\n",
       "    </tr>\n",
       "    <tr>\n",
       "      <th>3</th>\n",
       "      <td>OpenVINO</td>\n",
       "      <td>❌</td>\n",
       "      <td>0.0</td>\n",
       "      <td>NaN</td>\n",
       "      <td>NaN</td>\n",
       "    </tr>\n",
       "    <tr>\n",
       "      <th>4</th>\n",
       "      <td>TensorRT</td>\n",
       "      <td>❌</td>\n",
       "      <td>0.0</td>\n",
       "      <td>NaN</td>\n",
       "      <td>NaN</td>\n",
       "    </tr>\n",
       "    <tr>\n",
       "      <th>5</th>\n",
       "      <td>CoreML</td>\n",
       "      <td>❌</td>\n",
       "      <td>0.0</td>\n",
       "      <td>NaN</td>\n",
       "      <td>NaN</td>\n",
       "    </tr>\n",
       "    <tr>\n",
       "      <th>6</th>\n",
       "      <td>TensorFlow SavedModel</td>\n",
       "      <td>❌</td>\n",
       "      <td>0.0</td>\n",
       "      <td>NaN</td>\n",
       "      <td>NaN</td>\n",
       "    </tr>\n",
       "    <tr>\n",
       "      <th>7</th>\n",
       "      <td>TensorFlow GraphDef</td>\n",
       "      <td>❌</td>\n",
       "      <td>0.0</td>\n",
       "      <td>NaN</td>\n",
       "      <td>NaN</td>\n",
       "    </tr>\n",
       "    <tr>\n",
       "      <th>8</th>\n",
       "      <td>TensorFlow Lite</td>\n",
       "      <td>❌</td>\n",
       "      <td>0.0</td>\n",
       "      <td>NaN</td>\n",
       "      <td>NaN</td>\n",
       "    </tr>\n",
       "    <tr>\n",
       "      <th>9</th>\n",
       "      <td>TensorFlow Edge TPU</td>\n",
       "      <td>❌</td>\n",
       "      <td>0.0</td>\n",
       "      <td>NaN</td>\n",
       "      <td>NaN</td>\n",
       "    </tr>\n",
       "    <tr>\n",
       "      <th>10</th>\n",
       "      <td>TensorFlow.js</td>\n",
       "      <td>❌</td>\n",
       "      <td>0.0</td>\n",
       "      <td>NaN</td>\n",
       "      <td>NaN</td>\n",
       "    </tr>\n",
       "    <tr>\n",
       "      <th>11</th>\n",
       "      <td>PaddlePaddle</td>\n",
       "      <td>❌</td>\n",
       "      <td>0.0</td>\n",
       "      <td>NaN</td>\n",
       "      <td>NaN</td>\n",
       "    </tr>\n",
       "    <tr>\n",
       "      <th>12</th>\n",
       "      <td>ncnn</td>\n",
       "      <td>❌</td>\n",
       "      <td>0.0</td>\n",
       "      <td>NaN</td>\n",
       "      <td>NaN</td>\n",
       "    </tr>\n",
       "  </tbody>\n",
       "</table>\n",
       "</div>"
      ],
      "text/plain": [
       "                   Format Status❔  Size (MB)  metrics/mAP50-95(B)  Inference time (ms/im)\n",
       "0                 PyTorch       ✅       21.5               0.2417                   22.56\n",
       "1             TorchScript       ✅       42.8               0.2343                   15.76\n",
       "2                    ONNX       ❌        0.0                  NaN                     NaN\n",
       "3                OpenVINO       ❌        0.0                  NaN                     NaN\n",
       "4                TensorRT       ❌        0.0                  NaN                     NaN\n",
       "5                  CoreML       ❌        0.0                  NaN                     NaN\n",
       "6   TensorFlow SavedModel       ❌        0.0                  NaN                     NaN\n",
       "7     TensorFlow GraphDef       ❌        0.0                  NaN                     NaN\n",
       "8         TensorFlow Lite       ❌        0.0                  NaN                     NaN\n",
       "9     TensorFlow Edge TPU       ❌        0.0                  NaN                     NaN\n",
       "10          TensorFlow.js       ❌        0.0                  NaN                     NaN\n",
       "11           PaddlePaddle       ❌        0.0                  NaN                     NaN\n",
       "12                   ncnn       ❌        0.0                  NaN                     NaN"
      ]
     },
     "execution_count": 6,
     "metadata": {},
     "output_type": "execute_result"
    }
   ],
   "source": [
    "from ultralytics.utils.benchmarks import benchmark\n",
    "\n",
    "# Benchmark on GPU\n",
    "benchmark(model=model_path_s, data=data_yaml, device=\"cpu\")"
   ]
  },
  {
   "cell_type": "code",
   "execution_count": null,
   "id": "fcafe99e-8d4c-4ff8-a47b-f86a48c15a30",
   "metadata": {},
   "outputs": [],
   "source": []
  }
 ],
 "metadata": {
  "kernelspec": {
   "display_name": "Python 3 (ipykernel)",
   "language": "python",
   "name": "python3"
  },
  "language_info": {
   "codemirror_mode": {
    "name": "ipython",
    "version": 3
   },
   "file_extension": ".py",
   "mimetype": "text/x-python",
   "name": "python",
   "nbconvert_exporter": "python",
   "pygments_lexer": "ipython3",
   "version": "3.11.8"
  }
 },
 "nbformat": 4,
 "nbformat_minor": 5
}
